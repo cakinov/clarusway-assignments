{
 "cells": [
  {
   "cell_type": "code",
   "execution_count": null,
   "metadata": {},
   "outputs": [],
   "source": [
    "# this code checks if a given number is prime number\n"
   ]
  },
  {
   "cell_type": "code",
   "execution_count": 11,
   "metadata": {},
   "outputs": [
    {
     "name": "stdin",
     "output_type": "stream",
     "text": [
      "Enter a number 194\n"
     ]
    },
    {
     "name": "stdout",
     "output_type": "stream",
     "text": [
      "194 is not a prime number\n"
     ]
    }
   ],
   "source": [
    "number = input(\"Enter a number\")\n",
    "while not number.isdigit():\n",
    "    number = input(\"The entry was not a positive integer. Please enter a positive integer number\")\n",
    "number = int(number)\n",
    "for i in range(2, int(number)):\n",
    "    if number % i == 0:\n",
    "        print(\"{} is not a prime number\".format(number))\n",
    "        break\n",
    "else:\n",
    "    print(\"{} is a prime number\".format(number))"
   ]
  },
  {
   "cell_type": "code",
   "execution_count": null,
   "metadata": {},
   "outputs": [],
   "source": []
  }
 ],
 "metadata": {
  "kernelspec": {
   "display_name": "Python 3",
   "language": "python",
   "name": "python3"
  },
  "language_info": {
   "codemirror_mode": {
    "name": "ipython",
    "version": 3
   },
   "file_extension": ".py",
   "mimetype": "text/x-python",
   "name": "python",
   "nbconvert_exporter": "python",
   "pygments_lexer": "ipython3",
   "version": "3.7.6"
  }
 },
 "nbformat": 4,
 "nbformat_minor": 4
}
