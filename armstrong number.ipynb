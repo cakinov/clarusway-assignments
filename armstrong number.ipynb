{
 "cells": [
  {
   "cell_type": "code",
   "execution_count": null,
   "metadata": {},
   "outputs": [],
   "source": [
    "# Write a Python program that;\n",
    "# takes a positive integer number from the user,\n",
    "# checks the entered number if it is Armstrong,\n",
    "# consider the negative, float and any entries other than numeric values then display a warning message to the user.\n"
   ]
  },
  {
   "cell_type": "code",
   "execution_count": 3,
   "metadata": {},
   "outputs": [
    {
     "name": "stdin",
     "output_type": "stream",
     "text": [
      "Enter a positive integer 333\n"
     ]
    },
    {
     "name": "stdout",
     "output_type": "stream",
     "text": [
      "333 is not an armstrong number\n"
     ]
    }
   ],
   "source": [
    "number = input(\"Enter a positive integer\")\n",
    "while not number.isdigit():\n",
    "    number = input(\"The entry was not a positive integer. Please enter a positive integer number\")\n",
    "number_list = list(number)\n",
    "length_list = len(number_list)\n",
    "sum_digits = 0\n",
    "for i in range(length_list):\n",
    "    sum_digits += (int(number_list[i]))**length_list\n",
    "if sum_digits == int(number):\n",
    "    print('{} is an armstrong number'.format(number))\n",
    "else:\n",
    "    print('{} is not an armstrong number'.format(number))\n",
    "\n"
   ]
  },
  {
   "cell_type": "code",
   "execution_count": null,
   "metadata": {},
   "outputs": [],
   "source": []
  }
 ],
 "metadata": {
  "kernelspec": {
   "display_name": "Python 3",
   "language": "python",
   "name": "python3"
  },
  "language_info": {
   "codemirror_mode": {
    "name": "ipython",
    "version": 3
   },
   "file_extension": ".py",
   "mimetype": "text/x-python",
   "name": "python",
   "nbconvert_exporter": "python",
   "pygments_lexer": "ipython3",
   "version": "3.7.6"
  }
 },
 "nbformat": 4,
 "nbformat_minor": 4
}
